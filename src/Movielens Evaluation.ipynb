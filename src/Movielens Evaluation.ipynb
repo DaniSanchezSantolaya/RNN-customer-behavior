{
 "cells": [
  {
   "cell_type": "code",
   "execution_count": 42,
   "metadata": {
    "collapsed": true
   },
   "outputs": [],
   "source": [
    "\n",
    "import tensorflow as tf\n",
    "import numpy as np\n",
    "import os\n",
    "#from PhasedLSTMCell_v1 import *\n",
    "from PhasedLSTMCell import *\n",
    "import time\n",
    "import sys\n",
    "import pickle\n",
    "from rnn_dynamic import *\n",
    "import pandas as pd"
   ]
  },
  {
   "cell_type": "markdown",
   "metadata": {},
   "source": [
    "# Load test data¶"
   ]
  },
  {
   "cell_type": "code",
   "execution_count": 2,
   "metadata": {
    "collapsed": false
   },
   "outputs": [],
   "source": [
    "max_interactions = 100\n",
    "\n",
    "with open(\"pickles/movielens/X_test_\" + str(max_interactions) + \".pickle\", 'rb') as handle:\n",
    "    X_test = pickle.load(handle)\n",
    "with open(\"pickles/movielens/Y_test_\" + str(max_interactions) + \".pickle\", 'rb') as handle:\n",
    "    Y_test = pickle.load(handle)"
   ]
  },
  {
   "cell_type": "markdown",
   "metadata": {},
   "source": [
    "# Load Tensorflow model"
   ]
  },
  {
   "cell_type": "code",
   "execution_count": 3,
   "metadata": {
    "collapsed": false
   },
   "outputs": [
    {
     "name": "stdout",
     "output_type": "stream",
     "text": [
      "Create model...\n"
     ]
    },
    {
     "name": "stderr",
     "output_type": "stream",
     "text": [
      "C:\\Program Files\\Anaconda3\\lib\\site-packages\\tensorflow\\python\\ops\\gradients_impl.py:91: UserWarning: Converting sparse IndexedSlices to a dense Tensor of unknown shape. This may consume a large amount of memory.\n",
      "  \"Converting sparse IndexedSlices to a dense Tensor of unknown shape. \"\n"
     ]
    }
   ],
   "source": [
    "\n",
    "\n",
    "# tensorflow model\n",
    "checkpoint_path = 'checkpoints/rep0-lstm2-50-1-128-adam-6000000-20170417-204007/best_model/model_best.ckpt-128000'\n",
    "\n",
    "model_parameters = {}\n",
    "model_parameters['opt'] = 'adam'\n",
    "model_parameters['learning_rate'] = 0.001\n",
    "model_parameters['n_hidden'] = 50\n",
    "model_parameters['batch_size'] = 128\n",
    "model_parameters['rnn_type'] = 'lstm2'\n",
    "model_parameters['rnn_layers'] = 1\n",
    "model_parameters['dropout'] = 0.2\n",
    "model_parameters['l2_reg'] = 0.0\n",
    "model_parameters['type_output'] = 'softmax'\n",
    "model_parameters['max_steps'] = 3000000\n",
    "model_parameters['padding'] = 'right'\n",
    "model_parameters['n_input'] = X_test[0].toarray().shape[1]\n",
    "model_parameters['n_output'] = Y_test[0].toarray().shape[1]\n",
    "model_parameters['seq_length'] = X_test[0].toarray().shape[0]\n",
    "\n",
    "#Create tensorflow model and train\n",
    "print('Create model...')\n",
    "model = RNN_dynamic(model_parameters)\n",
    "model.create_model()\n"
   ]
  },
  {
   "cell_type": "markdown",
   "metadata": {},
   "source": [
    "# Evaluation"
   ]
  },
  {
   "cell_type": "code",
   "execution_count": 4,
   "metadata": {
    "collapsed": true
   },
   "outputs": [],
   "source": [
    "\n",
    "\n",
    "def evaluate_sample(predictions, y_true, k):\n",
    "    idx_predictions = np.arange(len(predictions))\n",
    "    sorted_pred, sorted_idx = zip(*sorted(zip(predictions,idx_predictions), reverse=True))\n",
    "    # Recall\n",
    "    _, y_true_idx = np.where(y_true ==1)\n",
    "    correct_idx = set(sorted_idx[:k]).intersection(set(y_true_idx))\n",
    "    num_pos_k = len(correct_idx)\n",
    "    total_pos = len(y_true)\n",
    "    recall_user_k = (num_pos_k/float(total_pos))\n",
    "    # Sps\n",
    "    first_movie = y_true_idx[0]\n",
    "    if first_movie in sorted_idx[0:k]:\n",
    "        sps_k = 1\n",
    "    else:\n",
    "        sps_k = 0\n",
    "    # Map\n",
    "    sum_precisions = 0\n",
    "    actual_pos = 0\n",
    "    for i in range(k):\n",
    "        if sorted_idx[i] in y_true_idx:\n",
    "            actual_pos += 1\n",
    "        sum_precisions += actual_pos/float(i+1)\n",
    "    ap_k = sum_precisions/min(k, len(y_true))\n",
    "    \n",
    "    return recall_user_k, sps_k, ap_k, num_pos_k, total_pos\n",
    "\n"
   ]
  },
  {
   "cell_type": "code",
   "execution_count": 5,
   "metadata": {
    "collapsed": false
   },
   "outputs": [
    {
     "name": "stdout",
     "output_type": "stream",
     "text": [
      "recall: 0.5\n",
      "sps_k: 1\n",
      "ap_k: 0.75\n",
      "num_pos_k: 1\n",
      "--------------\n",
      "recall: 0.6666666666666666\n",
      "sps_k: 0\n",
      "ap_k: 0.7222222222222222\n",
      "num_pos_k: 2\n"
     ]
    }
   ],
   "source": [
    "# Test function\n",
    "\n",
    "predictions = np.array([0.2, 0.75, 0.05])\n",
    "y_true = np.array([[0, 1, 0],[0,0,1]])\n",
    "k = 2\n",
    "recall_user_k, sps_k, ap_k, num_pos_k, total_pos = evaluate_sample(predictions, y_true, k)\n",
    "print('recall: ' + str(recall_user_k))\n",
    "print('sps_k: ' + str(sps_k))\n",
    "print('ap_k: ' + str(ap_k))\n",
    "print('num_pos_k: ' + str(num_pos_k))\n",
    "print('--------------')\n",
    "predictions = np.array([0.1, 0.2, 0.55, 0.15])\n",
    "y_true = np.array([[1,0,0,0], [0,0,0,1], [0,0,1,0]])\n",
    "k = 3\n",
    "recall_user_k, sps_k, ap_k, num_pos_k, total_pos = evaluate_sample(predictions, y_true, k)\n",
    "print('recall: ' + str(recall_user_k))\n",
    "print('sps_k: ' + str(sps_k))\n",
    "print('ap_k: ' + str(ap_k))\n",
    "print('num_pos_k: ' + str(num_pos_k))"
   ]
  },
  {
   "cell_type": "code",
   "execution_count": 9,
   "metadata": {
    "collapsed": false
   },
   "outputs": [
    {
     "name": "stdout",
     "output_type": "stream",
     "text": [
      "load model: checkpoints/rep0-lstm2-50-1-128-adam-6000000-20170417-204007/best_model/model_best.ckpt-128000\n",
      "0/2232\n",
      "load model: checkpoints/rep0-lstm2-50-1-128-adam-6000000-20170417-204007/best_model/model_best.ckpt-128000\n",
      "100/2232\n",
      "load model: checkpoints/rep0-lstm2-50-1-128-adam-6000000-20170417-204007/best_model/model_best.ckpt-128000\n",
      "200/2232\n",
      "load model: checkpoints/rep0-lstm2-50-1-128-adam-6000000-20170417-204007/best_model/model_best.ckpt-128000\n",
      "300/2232\n",
      "load model: checkpoints/rep0-lstm2-50-1-128-adam-6000000-20170417-204007/best_model/model_best.ckpt-128000\n",
      "400/2232\n",
      "load model: checkpoints/rep0-lstm2-50-1-128-adam-6000000-20170417-204007/best_model/model_best.ckpt-128000\n",
      "500/2232\n",
      "load model: checkpoints/rep0-lstm2-50-1-128-adam-6000000-20170417-204007/best_model/model_best.ckpt-128000\n",
      "600/2232\n",
      "load model: checkpoints/rep0-lstm2-50-1-128-adam-6000000-20170417-204007/best_model/model_best.ckpt-128000\n",
      "700/2232\n",
      "load model: checkpoints/rep0-lstm2-50-1-128-adam-6000000-20170417-204007/best_model/model_best.ckpt-128000\n",
      "800/2232\n",
      "load model: checkpoints/rep0-lstm2-50-1-128-adam-6000000-20170417-204007/best_model/model_best.ckpt-128000\n",
      "900/2232\n",
      "load model: checkpoints/rep0-lstm2-50-1-128-adam-6000000-20170417-204007/best_model/model_best.ckpt-128000\n",
      "1000/2232\n",
      "load model: checkpoints/rep0-lstm2-50-1-128-adam-6000000-20170417-204007/best_model/model_best.ckpt-128000\n",
      "1100/2232\n",
      "load model: checkpoints/rep0-lstm2-50-1-128-adam-6000000-20170417-204007/best_model/model_best.ckpt-128000\n",
      "1200/2232\n",
      "load model: checkpoints/rep0-lstm2-50-1-128-adam-6000000-20170417-204007/best_model/model_best.ckpt-128000\n",
      "1300/2232\n",
      "load model: checkpoints/rep0-lstm2-50-1-128-adam-6000000-20170417-204007/best_model/model_best.ckpt-128000\n",
      "1400/2232\n",
      "load model: checkpoints/rep0-lstm2-50-1-128-adam-6000000-20170417-204007/best_model/model_best.ckpt-128000\n",
      "1500/2232\n",
      "load model: checkpoints/rep0-lstm2-50-1-128-adam-6000000-20170417-204007/best_model/model_best.ckpt-128000\n",
      "1600/2232\n",
      "load model: checkpoints/rep0-lstm2-50-1-128-adam-6000000-20170417-204007/best_model/model_best.ckpt-128000\n",
      "1700/2232\n",
      "load model: checkpoints/rep0-lstm2-50-1-128-adam-6000000-20170417-204007/best_model/model_best.ckpt-128000\n",
      "1800/2232\n",
      "load model: checkpoints/rep0-lstm2-50-1-128-adam-6000000-20170417-204007/best_model/model_best.ckpt-128000\n",
      "1900/2232\n",
      "load model: checkpoints/rep0-lstm2-50-1-128-adam-6000000-20170417-204007/best_model/model_best.ckpt-128000\n",
      "2000/2232\n",
      "load model: checkpoints/rep0-lstm2-50-1-128-adam-6000000-20170417-204007/best_model/model_best.ckpt-128000\n",
      "2100/2232\n",
      "load model: checkpoints/rep0-lstm2-50-1-128-adam-6000000-20170417-204007/best_model/model_best.ckpt-128000\n",
      "2200/2232\n",
      "Mean recall users: 0.0182613450623\n",
      "Mean spss: 0.0215053763441\n",
      "MAP: 0.0486056009172\n",
      "Total Recall (no mean recall users): 0.0108546817039\n"
     ]
    }
   ],
   "source": [
    "# Make predictions in chunks\n",
    "\n",
    "k = 10\n",
    "recalls = []\n",
    "spss = []\n",
    "aps = []\n",
    "num_poss = []\n",
    "total_poss = []\n",
    "\n",
    "num_movies = Y_test[0].toarray().shape[1]\n",
    "batch_size = 100\n",
    "for i in range(0, len(X_test), batch_size):\n",
    "    x_test = [x.toarray() for x in X_test[i:i+batch_size]]\n",
    "    y_test = [y.toarray() for y in Y_test[i:i+batch_size]]\n",
    "    y_pred = model.predict(x_test, checkpoint_path)\n",
    "    for j in range(len(y_pred)):\n",
    "        recall_user_k, sps_k, ap_k, num_pos_k, total_pos = evaluate_sample(y_pred[j], y_test[j], k)\n",
    "        recalls.append(recall_user_k)\n",
    "        spss.append(sps_k)\n",
    "        aps.append(ap_k)\n",
    "        num_poss.append(num_pos_k)\n",
    "        total_poss.append(total_pos)\n",
    "    print(str(i) + '/' + str(len(X_test)))\n",
    "\n",
    "print('Mean recall users: ' + str(np.mean(recalls)))\n",
    "print('Mean spss: ' + str(np.mean(spss)))\n",
    "print('MAP: ' + str(np.mean(aps)))\n",
    "total_recall = np.sum(num_poss)/float(np.sum(total_poss))\n",
    "print('Total Recall (no mean recall users): ' + str(total_recall))"
   ]
  },
  {
   "cell_type": "markdown",
   "metadata": {},
   "source": [
    "# Look particular prediction"
   ]
  },
  {
   "cell_type": "code",
   "execution_count": null,
   "metadata": {
    "collapsed": true
   },
   "outputs": [],
   "source": [
    "# First let's load data about the movies\n",
    "with open(\"../src/pickles/movielens/user_test_\" + str(max_interactions) + \".pickle\", 'rb') as handle:\n",
    "    user_test = pickle.load(handle)\n",
    "with open(\"../data/Movielens/ml-20m/df_date_2010.pickle\", 'rb') as handle:\n",
    "    df_date = pickle.load(handle)\n",
    "dataset_file = \"../data/Movielens/ml-20m/movies.csv\"\n",
    "df_movies = pd.read_csv(dataset_file)\n",
    "\n",
    "# Build array mapping movie_id --> position in one-hot encoding\n",
    "moviesData = {}\n",
    "movieIds = np.zeros(max(df_date['movieId'].unique()) + 1, np.uint16)\n",
    "i = 0\n",
    "for movieId in df_date['movieId'].unique():\n",
    "    movieIds[movieId] = i\n",
    "    moviesData[i] = {}\n",
    "    moviesData[i]['title'] = df_movies[df_movies['movieId'] == movieId].title\n",
    "    moviesData[i]['genres'] = df_movies[df_movies['movieId'] == movieId].genres\n",
    "    i += 1\n",
    "    \n",
    "    "
   ]
  },
  {
   "cell_type": "code",
   "execution_count": 16,
   "metadata": {
    "collapsed": false
   },
   "outputs": [],
   "source": [
    "# Look user with sps = 1\n",
    "a = np.where(np.array(spss) == 1)"
   ]
  },
  {
   "cell_type": "code",
   "execution_count": 19,
   "metadata": {
    "collapsed": false
   },
   "outputs": [
    {
     "data": {
      "text/plain": [
       "1"
      ]
     },
     "execution_count": 19,
     "metadata": {},
     "output_type": "execute_result"
    }
   ],
   "source": [
    "spss[2215]"
   ]
  },
  {
   "cell_type": "code",
   "execution_count": 68,
   "metadata": {
    "collapsed": false
   },
   "outputs": [
    {
     "data": {
      "text/plain": [
       "(array([130], dtype=int64),)"
      ]
     },
     "execution_count": 68,
     "metadata": {},
     "output_type": "execute_result"
    }
   ],
   "source": [
    "# Look which was the first movie for this user\n",
    "b = np.where(y_test[15][0] == 1)\n",
    "b"
   ]
  },
  {
   "cell_type": "code",
   "execution_count": 27,
   "metadata": {
    "collapsed": false
   },
   "outputs": [
    {
     "data": {
      "text/plain": [
       "0.0097142299637198448"
      ]
     },
     "execution_count": 27,
     "metadata": {},
     "output_type": "execute_result"
    }
   ],
   "source": [
    "# Look the probability for this movie\n",
    "y_pred[15][130]"
   ]
  },
  {
   "cell_type": "code",
   "execution_count": 71,
   "metadata": {
    "collapsed": false
   },
   "outputs": [
    {
     "name": "stdout",
     "output_type": "stream",
     "text": [
      "(0.0097142299637198448, 0.008466687984764576, 0.0075912931933999062, 0.0069626700133085251, 0.0067433267831802368, 0.006249699741601944, 0.0061829485930502415, 0.0058726221323013306, 0.0058480473235249519, 0.0055826134048402309)\n",
      "(130, 445, 8, 3, 309, 611, 73, 0, 53, 121)\n"
     ]
    }
   ],
   "source": [
    "# Sort the predicted movies by probabilities\n",
    "idx_predictions = np.arange(len(y_pred[15]))\n",
    "sorted_pred, sorted_idx = zip(*sorted(zip(y_pred[15],idx_predictions), reverse=True))\n",
    "print(sorted_pred[0:k])\n",
    "print(sorted_idx[0:k])"
   ]
  },
  {
   "cell_type": "code",
   "execution_count": 72,
   "metadata": {
    "collapsed": false
   },
   "outputs": [
    {
     "data": {
      "text/plain": [
       "array([ 121,   99,    3,  309,  145,  147,  838,  445,   70,   78,  550,\n",
       "        311,   90,  611,  533,   92,  478,  677,  269,  505,  155,  214,\n",
       "        763,  391,  128,  668,  339,  245,  493,   81,    4,  952,   24,\n",
       "        549,  138,  686,  374,  335,   75, 1335,   93,  519,  671, 1014,\n",
       "        368,  229,  990,  112,  265,    0,  547,  142,  148,  430,  143,\n",
       "        141,  174,  548,  186,  170,  913,  631,  189,  280,  315,  529,\n",
       "         65,   76,   42,  118,  552,   73,  401,  927], dtype=int64)"
      ]
     },
     "execution_count": 72,
     "metadata": {},
     "output_type": "execute_result"
    }
   ],
   "source": [
    "# Let's see where where the movies previous to prediction time\n",
    "c,d = np.where(x_test[15] == 1)\n",
    "d"
   ]
  },
  {
   "cell_type": "code",
   "execution_count": 77,
   "metadata": {
    "collapsed": false
   },
   "outputs": [
    {
     "data": {
      "text/plain": [
       "{'genres': 2873    Action|Crime|Drama|Thriller\n",
       " Name: genres, dtype: object, 'title': 2873    Fight Club (1999)\n",
       " Name: title, dtype: object}"
      ]
     },
     "execution_count": 77,
     "metadata": {},
     "output_type": "execute_result"
    }
   ],
   "source": [
    "# Predicted movie and real first movie\n",
    "moviesData[130]"
   ]
  },
  {
   "cell_type": "code",
   "execution_count": 75,
   "metadata": {
    "collapsed": false
   },
   "outputs": [
    {
     "data": {
      "text/plain": [
       "{'genres': 587    Crime|Horror|Thriller\n",
       " Name: genres, dtype: object, 'title': 587    Silence of the Lambs, The (1991)\n",
       " Name: title, dtype: object}"
      ]
     },
     "execution_count": 75,
     "metadata": {},
     "output_type": "execute_result"
    }
   ],
   "source": [
    "# movies before prediction time\n",
    "moviesData[73]"
   ]
  },
  {
   "cell_type": "code",
   "execution_count": 78,
   "metadata": {
    "collapsed": false
   },
   "outputs": [
    {
     "data": {
      "text/html": [
       "<div>\n",
       "<table border=\"1\" class=\"dataframe\">\n",
       "  <thead>\n",
       "    <tr style=\"text-align: right;\">\n",
       "      <th></th>\n",
       "      <th>userId</th>\n",
       "      <th>movieId</th>\n",
       "      <th>rating</th>\n",
       "      <th>timestamp</th>\n",
       "      <th>date</th>\n",
       "    </tr>\n",
       "  </thead>\n",
       "  <tbody>\n",
       "    <tr>\n",
       "      <th>19837745</th>\n",
       "      <td>137322</td>\n",
       "      <td>2571</td>\n",
       "      <td>2.0</td>\n",
       "      <td>1420029674</td>\n",
       "      <td>2014-12-31 12:41:14</td>\n",
       "    </tr>\n",
       "    <tr>\n",
       "      <th>19837737</th>\n",
       "      <td>137322</td>\n",
       "      <td>1291</td>\n",
       "      <td>4.0</td>\n",
       "      <td>1420029677</td>\n",
       "      <td>2014-12-31 12:41:17</td>\n",
       "    </tr>\n",
       "    <tr>\n",
       "      <th>19837773</th>\n",
       "      <td>137322</td>\n",
       "      <td>7153</td>\n",
       "      <td>4.0</td>\n",
       "      <td>1420029681</td>\n",
       "      <td>2014-12-31 12:41:21</td>\n",
       "    </tr>\n",
       "    <tr>\n",
       "      <th>19837786</th>\n",
       "      <td>137322</td>\n",
       "      <td>58559</td>\n",
       "      <td>3.5</td>\n",
       "      <td>1420029690</td>\n",
       "      <td>2014-12-31 12:41:30</td>\n",
       "    </tr>\n",
       "    <tr>\n",
       "      <th>19837760</th>\n",
       "      <td>137322</td>\n",
       "      <td>4993</td>\n",
       "      <td>4.0</td>\n",
       "      <td>1420029693</td>\n",
       "      <td>2014-12-31 12:41:33</td>\n",
       "    </tr>\n",
       "    <tr>\n",
       "      <th>19837765</th>\n",
       "      <td>137322</td>\n",
       "      <td>5952</td>\n",
       "      <td>4.0</td>\n",
       "      <td>1420029694</td>\n",
       "      <td>2014-12-31 12:41:34</td>\n",
       "    </tr>\n",
       "    <tr>\n",
       "      <th>19837720</th>\n",
       "      <td>137322</td>\n",
       "      <td>293</td>\n",
       "      <td>5.0</td>\n",
       "      <td>1420029703</td>\n",
       "      <td>2014-12-31 12:41:43</td>\n",
       "    </tr>\n",
       "    <tr>\n",
       "      <th>19837794</th>\n",
       "      <td>137322</td>\n",
       "      <td>79132</td>\n",
       "      <td>4.0</td>\n",
       "      <td>1420029705</td>\n",
       "      <td>2014-12-31 12:41:45</td>\n",
       "    </tr>\n",
       "    <tr>\n",
       "      <th>19837726</th>\n",
       "      <td>137322</td>\n",
       "      <td>589</td>\n",
       "      <td>1.0</td>\n",
       "      <td>1420029715</td>\n",
       "      <td>2014-12-31 12:41:55</td>\n",
       "    </tr>\n",
       "    <tr>\n",
       "      <th>19837731</th>\n",
       "      <td>137322</td>\n",
       "      <td>1036</td>\n",
       "      <td>4.0</td>\n",
       "      <td>1420029720</td>\n",
       "      <td>2014-12-31 12:42:00</td>\n",
       "    </tr>\n",
       "    <tr>\n",
       "      <th>19837785</th>\n",
       "      <td>137322</td>\n",
       "      <td>54286</td>\n",
       "      <td>4.0</td>\n",
       "      <td>1420029728</td>\n",
       "      <td>2014-12-31 12:42:08</td>\n",
       "    </tr>\n",
       "    <tr>\n",
       "      <th>19837787</th>\n",
       "      <td>137322</td>\n",
       "      <td>59315</td>\n",
       "      <td>4.0</td>\n",
       "      <td>1420029730</td>\n",
       "      <td>2014-12-31 12:42:10</td>\n",
       "    </tr>\n",
       "    <tr>\n",
       "      <th>19837734</th>\n",
       "      <td>137322</td>\n",
       "      <td>1198</td>\n",
       "      <td>4.0</td>\n",
       "      <td>1420029739</td>\n",
       "      <td>2014-12-31 12:42:19</td>\n",
       "    </tr>\n",
       "    <tr>\n",
       "      <th>19837744</th>\n",
       "      <td>137322</td>\n",
       "      <td>2329</td>\n",
       "      <td>5.0</td>\n",
       "      <td>1420029752</td>\n",
       "      <td>2014-12-31 12:42:32</td>\n",
       "    </tr>\n",
       "    <tr>\n",
       "      <th>19837776</th>\n",
       "      <td>137322</td>\n",
       "      <td>8874</td>\n",
       "      <td>1.0</td>\n",
       "      <td>1420029756</td>\n",
       "      <td>2014-12-31 12:42:36</td>\n",
       "    </tr>\n",
       "    <tr>\n",
       "      <th>19837735</th>\n",
       "      <td>137322</td>\n",
       "      <td>1214</td>\n",
       "      <td>4.0</td>\n",
       "      <td>1420029761</td>\n",
       "      <td>2014-12-31 12:42:41</td>\n",
       "    </tr>\n",
       "    <tr>\n",
       "      <th>19837767</th>\n",
       "      <td>137322</td>\n",
       "      <td>6016</td>\n",
       "      <td>5.0</td>\n",
       "      <td>1420029763</td>\n",
       "      <td>2014-12-31 12:42:43</td>\n",
       "    </tr>\n",
       "    <tr>\n",
       "      <th>19837763</th>\n",
       "      <td>137322</td>\n",
       "      <td>5418</td>\n",
       "      <td>5.0</td>\n",
       "      <td>1420029767</td>\n",
       "      <td>2014-12-31 12:42:47</td>\n",
       "    </tr>\n",
       "    <tr>\n",
       "      <th>19837781</th>\n",
       "      <td>137322</td>\n",
       "      <td>44191</td>\n",
       "      <td>5.0</td>\n",
       "      <td>1420029772</td>\n",
       "      <td>2014-12-31 12:42:52</td>\n",
       "    </tr>\n",
       "    <tr>\n",
       "      <th>19837739</th>\n",
       "      <td>137322</td>\n",
       "      <td>1653</td>\n",
       "      <td>5.0</td>\n",
       "      <td>1420029774</td>\n",
       "      <td>2014-12-31 12:42:54</td>\n",
       "    </tr>\n",
       "    <tr>\n",
       "      <th>19837715</th>\n",
       "      <td>137322</td>\n",
       "      <td>1</td>\n",
       "      <td>4.0</td>\n",
       "      <td>1420029781</td>\n",
       "      <td>2014-12-31 12:43:01</td>\n",
       "    </tr>\n",
       "    <tr>\n",
       "      <th>19837770</th>\n",
       "      <td>137322</td>\n",
       "      <td>6539</td>\n",
       "      <td>4.0</td>\n",
       "      <td>1420029783</td>\n",
       "      <td>2014-12-31 12:43:03</td>\n",
       "    </tr>\n",
       "    <tr>\n",
       "      <th>19837793</th>\n",
       "      <td>137322</td>\n",
       "      <td>78499</td>\n",
       "      <td>4.0</td>\n",
       "      <td>1420029793</td>\n",
       "      <td>2014-12-31 12:43:13</td>\n",
       "    </tr>\n",
       "    <tr>\n",
       "      <th>19837738</th>\n",
       "      <td>137322</td>\n",
       "      <td>1625</td>\n",
       "      <td>5.0</td>\n",
       "      <td>1420029798</td>\n",
       "      <td>2014-12-31 12:43:18</td>\n",
       "    </tr>\n",
       "    <tr>\n",
       "      <th>19837746</th>\n",
       "      <td>137322</td>\n",
       "      <td>2858</td>\n",
       "      <td>4.5</td>\n",
       "      <td>1420029801</td>\n",
       "      <td>2014-12-31 12:43:21</td>\n",
       "    </tr>\n",
       "    <tr>\n",
       "      <th>19837751</th>\n",
       "      <td>137322</td>\n",
       "      <td>4011</td>\n",
       "      <td>5.0</td>\n",
       "      <td>1420029826</td>\n",
       "      <td>2014-12-31 12:43:46</td>\n",
       "    </tr>\n",
       "    <tr>\n",
       "      <th>19837791</th>\n",
       "      <td>137322</td>\n",
       "      <td>76093</td>\n",
       "      <td>4.0</td>\n",
       "      <td>1420029829</td>\n",
       "      <td>2014-12-31 12:43:49</td>\n",
       "    </tr>\n",
       "    <tr>\n",
       "      <th>19837777</th>\n",
       "      <td>137322</td>\n",
       "      <td>8961</td>\n",
       "      <td>4.0</td>\n",
       "      <td>1420029829</td>\n",
       "      <td>2014-12-31 12:43:49</td>\n",
       "    </tr>\n",
       "    <tr>\n",
       "      <th>19837728</th>\n",
       "      <td>137322</td>\n",
       "      <td>608</td>\n",
       "      <td>5.0</td>\n",
       "      <td>1420029841</td>\n",
       "      <td>2014-12-31 12:44:01</td>\n",
       "    </tr>\n",
       "    <tr>\n",
       "      <th>19837732</th>\n",
       "      <td>137322</td>\n",
       "      <td>1089</td>\n",
       "      <td>5.0</td>\n",
       "      <td>1420029878</td>\n",
       "      <td>2014-12-31 12:44:38</td>\n",
       "    </tr>\n",
       "    <tr>\n",
       "      <th>...</th>\n",
       "      <td>...</td>\n",
       "      <td>...</td>\n",
       "      <td>...</td>\n",
       "      <td>...</td>\n",
       "      <td>...</td>\n",
       "    </tr>\n",
       "    <tr>\n",
       "      <th>19837718</th>\n",
       "      <td>137322</td>\n",
       "      <td>50</td>\n",
       "      <td>5.0</td>\n",
       "      <td>1420030205</td>\n",
       "      <td>2014-12-31 12:50:05</td>\n",
       "    </tr>\n",
       "    <tr>\n",
       "      <th>19837743</th>\n",
       "      <td>137322</td>\n",
       "      <td>2324</td>\n",
       "      <td>5.0</td>\n",
       "      <td>1420030209</td>\n",
       "      <td>2014-12-31 12:50:09</td>\n",
       "    </tr>\n",
       "    <tr>\n",
       "      <th>19837800</th>\n",
       "      <td>137322</td>\n",
       "      <td>92259</td>\n",
       "      <td>5.0</td>\n",
       "      <td>1420030213</td>\n",
       "      <td>2014-12-31 12:50:13</td>\n",
       "    </tr>\n",
       "    <tr>\n",
       "      <th>19837727</th>\n",
       "      <td>137322</td>\n",
       "      <td>593</td>\n",
       "      <td>4.0</td>\n",
       "      <td>1420030218</td>\n",
       "      <td>2014-12-31 12:50:18</td>\n",
       "    </tr>\n",
       "    <tr>\n",
       "      <th>19837725</th>\n",
       "      <td>137322</td>\n",
       "      <td>541</td>\n",
       "      <td>4.0</td>\n",
       "      <td>1420030284</td>\n",
       "      <td>2014-12-31 12:51:24</td>\n",
       "    </tr>\n",
       "    <tr>\n",
       "      <th>19837778</th>\n",
       "      <td>137322</td>\n",
       "      <td>27904</td>\n",
       "      <td>5.0</td>\n",
       "      <td>1420030344</td>\n",
       "      <td>2014-12-31 12:52:24</td>\n",
       "    </tr>\n",
       "    <tr>\n",
       "      <th>19837747</th>\n",
       "      <td>137322</td>\n",
       "      <td>2959</td>\n",
       "      <td>5.0</td>\n",
       "      <td>1420203182</td>\n",
       "      <td>2015-01-02 12:53:02</td>\n",
       "    </tr>\n",
       "    <tr>\n",
       "      <th>19837721</th>\n",
       "      <td>137322</td>\n",
       "      <td>296</td>\n",
       "      <td>5.0</td>\n",
       "      <td>1420203185</td>\n",
       "      <td>2015-01-02 12:53:05</td>\n",
       "    </tr>\n",
       "    <tr>\n",
       "      <th>19837803</th>\n",
       "      <td>137322</td>\n",
       "      <td>99114</td>\n",
       "      <td>4.0</td>\n",
       "      <td>1420203190</td>\n",
       "      <td>2015-01-02 12:53:10</td>\n",
       "    </tr>\n",
       "    <tr>\n",
       "      <th>19837740</th>\n",
       "      <td>137322</td>\n",
       "      <td>1732</td>\n",
       "      <td>4.0</td>\n",
       "      <td>1421684208</td>\n",
       "      <td>2015-01-19 16:16:48</td>\n",
       "    </tr>\n",
       "    <tr>\n",
       "      <th>19837790</th>\n",
       "      <td>137322</td>\n",
       "      <td>74458</td>\n",
       "      <td>5.0</td>\n",
       "      <td>1421684282</td>\n",
       "      <td>2015-01-19 16:18:02</td>\n",
       "    </tr>\n",
       "    <tr>\n",
       "      <th>19837795</th>\n",
       "      <td>137322</td>\n",
       "      <td>81591</td>\n",
       "      <td>4.0</td>\n",
       "      <td>1421684290</td>\n",
       "      <td>2015-01-19 16:18:10</td>\n",
       "    </tr>\n",
       "    <tr>\n",
       "      <th>19837792</th>\n",
       "      <td>137322</td>\n",
       "      <td>77561</td>\n",
       "      <td>4.0</td>\n",
       "      <td>1421684297</td>\n",
       "      <td>2015-01-19 16:18:17</td>\n",
       "    </tr>\n",
       "    <tr>\n",
       "      <th>19837799</th>\n",
       "      <td>137322</td>\n",
       "      <td>91529</td>\n",
       "      <td>4.0</td>\n",
       "      <td>1421684299</td>\n",
       "      <td>2015-01-19 16:18:19</td>\n",
       "    </tr>\n",
       "    <tr>\n",
       "      <th>19837797</th>\n",
       "      <td>137322</td>\n",
       "      <td>89745</td>\n",
       "      <td>4.0</td>\n",
       "      <td>1421684300</td>\n",
       "      <td>2015-01-19 16:18:20</td>\n",
       "    </tr>\n",
       "    <tr>\n",
       "      <th>19837806</th>\n",
       "      <td>137322</td>\n",
       "      <td>109374</td>\n",
       "      <td>5.0</td>\n",
       "      <td>1421684694</td>\n",
       "      <td>2015-01-19 16:24:54</td>\n",
       "    </tr>\n",
       "    <tr>\n",
       "      <th>19837810</th>\n",
       "      <td>137322</td>\n",
       "      <td>114552</td>\n",
       "      <td>4.5</td>\n",
       "      <td>1422638897</td>\n",
       "      <td>2015-01-30 17:28:17</td>\n",
       "    </tr>\n",
       "    <tr>\n",
       "      <th>19837807</th>\n",
       "      <td>137322</td>\n",
       "      <td>112183</td>\n",
       "      <td>5.0</td>\n",
       "      <td>1422638925</td>\n",
       "      <td>2015-01-30 17:28:45</td>\n",
       "    </tr>\n",
       "    <tr>\n",
       "      <th>19837809</th>\n",
       "      <td>137322</td>\n",
       "      <td>112556</td>\n",
       "      <td>4.0</td>\n",
       "      <td>1422638930</td>\n",
       "      <td>2015-01-30 17:28:50</td>\n",
       "    </tr>\n",
       "    <tr>\n",
       "      <th>19837811</th>\n",
       "      <td>137322</td>\n",
       "      <td>115569</td>\n",
       "      <td>4.5</td>\n",
       "      <td>1423480750</td>\n",
       "      <td>2015-02-09 11:19:10</td>\n",
       "    </tr>\n",
       "    <tr>\n",
       "      <th>19837801</th>\n",
       "      <td>137322</td>\n",
       "      <td>94959</td>\n",
       "      <td>4.0</td>\n",
       "      <td>1423635504</td>\n",
       "      <td>2015-02-11 06:18:24</td>\n",
       "    </tr>\n",
       "    <tr>\n",
       "      <th>19837722</th>\n",
       "      <td>137322</td>\n",
       "      <td>318</td>\n",
       "      <td>4.0</td>\n",
       "      <td>1423635515</td>\n",
       "      <td>2015-02-11 06:18:35</td>\n",
       "    </tr>\n",
       "    <tr>\n",
       "      <th>19837716</th>\n",
       "      <td>137322</td>\n",
       "      <td>25</td>\n",
       "      <td>5.0</td>\n",
       "      <td>1423635797</td>\n",
       "      <td>2015-02-11 06:23:17</td>\n",
       "    </tr>\n",
       "    <tr>\n",
       "      <th>19837805</th>\n",
       "      <td>137322</td>\n",
       "      <td>106920</td>\n",
       "      <td>4.0</td>\n",
       "      <td>1423635817</td>\n",
       "      <td>2015-02-11 06:23:37</td>\n",
       "    </tr>\n",
       "    <tr>\n",
       "      <th>19837741</th>\n",
       "      <td>137322</td>\n",
       "      <td>1921</td>\n",
       "      <td>4.5</td>\n",
       "      <td>1423755019</td>\n",
       "      <td>2015-02-12 15:30:19</td>\n",
       "    </tr>\n",
       "    <tr>\n",
       "      <th>19837717</th>\n",
       "      <td>137322</td>\n",
       "      <td>32</td>\n",
       "      <td>5.0</td>\n",
       "      <td>1423755102</td>\n",
       "      <td>2015-02-12 15:31:42</td>\n",
       "    </tr>\n",
       "    <tr>\n",
       "      <th>19837719</th>\n",
       "      <td>137322</td>\n",
       "      <td>110</td>\n",
       "      <td>4.0</td>\n",
       "      <td>1423755108</td>\n",
       "      <td>2015-02-12 15:31:48</td>\n",
       "    </tr>\n",
       "    <tr>\n",
       "      <th>19837723</th>\n",
       "      <td>137322</td>\n",
       "      <td>356</td>\n",
       "      <td>4.5</td>\n",
       "      <td>1423755111</td>\n",
       "      <td>2015-02-12 15:31:51</td>\n",
       "    </tr>\n",
       "    <tr>\n",
       "      <th>19837808</th>\n",
       "      <td>137322</td>\n",
       "      <td>112552</td>\n",
       "      <td>4.5</td>\n",
       "      <td>1423755118</td>\n",
       "      <td>2015-02-12 15:31:58</td>\n",
       "    </tr>\n",
       "    <tr>\n",
       "      <th>19837812</th>\n",
       "      <td>137322</td>\n",
       "      <td>115617</td>\n",
       "      <td>4.5</td>\n",
       "      <td>1424022335</td>\n",
       "      <td>2015-02-15 17:45:35</td>\n",
       "    </tr>\n",
       "  </tbody>\n",
       "</table>\n",
       "<p>98 rows × 5 columns</p>\n",
       "</div>"
      ],
      "text/plain": [
       "          userId  movieId  rating   timestamp                date\n",
       "19837745  137322     2571     2.0  1420029674 2014-12-31 12:41:14\n",
       "19837737  137322     1291     4.0  1420029677 2014-12-31 12:41:17\n",
       "19837773  137322     7153     4.0  1420029681 2014-12-31 12:41:21\n",
       "19837786  137322    58559     3.5  1420029690 2014-12-31 12:41:30\n",
       "19837760  137322     4993     4.0  1420029693 2014-12-31 12:41:33\n",
       "19837765  137322     5952     4.0  1420029694 2014-12-31 12:41:34\n",
       "19837720  137322      293     5.0  1420029703 2014-12-31 12:41:43\n",
       "19837794  137322    79132     4.0  1420029705 2014-12-31 12:41:45\n",
       "19837726  137322      589     1.0  1420029715 2014-12-31 12:41:55\n",
       "19837731  137322     1036     4.0  1420029720 2014-12-31 12:42:00\n",
       "19837785  137322    54286     4.0  1420029728 2014-12-31 12:42:08\n",
       "19837787  137322    59315     4.0  1420029730 2014-12-31 12:42:10\n",
       "19837734  137322     1198     4.0  1420029739 2014-12-31 12:42:19\n",
       "19837744  137322     2329     5.0  1420029752 2014-12-31 12:42:32\n",
       "19837776  137322     8874     1.0  1420029756 2014-12-31 12:42:36\n",
       "19837735  137322     1214     4.0  1420029761 2014-12-31 12:42:41\n",
       "19837767  137322     6016     5.0  1420029763 2014-12-31 12:42:43\n",
       "19837763  137322     5418     5.0  1420029767 2014-12-31 12:42:47\n",
       "19837781  137322    44191     5.0  1420029772 2014-12-31 12:42:52\n",
       "19837739  137322     1653     5.0  1420029774 2014-12-31 12:42:54\n",
       "19837715  137322        1     4.0  1420029781 2014-12-31 12:43:01\n",
       "19837770  137322     6539     4.0  1420029783 2014-12-31 12:43:03\n",
       "19837793  137322    78499     4.0  1420029793 2014-12-31 12:43:13\n",
       "19837738  137322     1625     5.0  1420029798 2014-12-31 12:43:18\n",
       "19837746  137322     2858     4.5  1420029801 2014-12-31 12:43:21\n",
       "19837751  137322     4011     5.0  1420029826 2014-12-31 12:43:46\n",
       "19837791  137322    76093     4.0  1420029829 2014-12-31 12:43:49\n",
       "19837777  137322     8961     4.0  1420029829 2014-12-31 12:43:49\n",
       "19837728  137322      608     5.0  1420029841 2014-12-31 12:44:01\n",
       "19837732  137322     1089     5.0  1420029878 2014-12-31 12:44:38\n",
       "...          ...      ...     ...         ...                 ...\n",
       "19837718  137322       50     5.0  1420030205 2014-12-31 12:50:05\n",
       "19837743  137322     2324     5.0  1420030209 2014-12-31 12:50:09\n",
       "19837800  137322    92259     5.0  1420030213 2014-12-31 12:50:13\n",
       "19837727  137322      593     4.0  1420030218 2014-12-31 12:50:18\n",
       "19837725  137322      541     4.0  1420030284 2014-12-31 12:51:24\n",
       "19837778  137322    27904     5.0  1420030344 2014-12-31 12:52:24\n",
       "19837747  137322     2959     5.0  1420203182 2015-01-02 12:53:02\n",
       "19837721  137322      296     5.0  1420203185 2015-01-02 12:53:05\n",
       "19837803  137322    99114     4.0  1420203190 2015-01-02 12:53:10\n",
       "19837740  137322     1732     4.0  1421684208 2015-01-19 16:16:48\n",
       "19837790  137322    74458     5.0  1421684282 2015-01-19 16:18:02\n",
       "19837795  137322    81591     4.0  1421684290 2015-01-19 16:18:10\n",
       "19837792  137322    77561     4.0  1421684297 2015-01-19 16:18:17\n",
       "19837799  137322    91529     4.0  1421684299 2015-01-19 16:18:19\n",
       "19837797  137322    89745     4.0  1421684300 2015-01-19 16:18:20\n",
       "19837806  137322   109374     5.0  1421684694 2015-01-19 16:24:54\n",
       "19837810  137322   114552     4.5  1422638897 2015-01-30 17:28:17\n",
       "19837807  137322   112183     5.0  1422638925 2015-01-30 17:28:45\n",
       "19837809  137322   112556     4.0  1422638930 2015-01-30 17:28:50\n",
       "19837811  137322   115569     4.5  1423480750 2015-02-09 11:19:10\n",
       "19837801  137322    94959     4.0  1423635504 2015-02-11 06:18:24\n",
       "19837722  137322      318     4.0  1423635515 2015-02-11 06:18:35\n",
       "19837716  137322       25     5.0  1423635797 2015-02-11 06:23:17\n",
       "19837805  137322   106920     4.0  1423635817 2015-02-11 06:23:37\n",
       "19837741  137322     1921     4.5  1423755019 2015-02-12 15:30:19\n",
       "19837717  137322       32     5.0  1423755102 2015-02-12 15:31:42\n",
       "19837719  137322      110     4.0  1423755108 2015-02-12 15:31:48\n",
       "19837723  137322      356     4.5  1423755111 2015-02-12 15:31:51\n",
       "19837808  137322   112552     4.5  1423755118 2015-02-12 15:31:58\n",
       "19837812  137322   115617     4.5  1424022335 2015-02-15 17:45:35\n",
       "\n",
       "[98 rows x 5 columns]"
      ]
     },
     "execution_count": 78,
     "metadata": {},
     "output_type": "execute_result"
    }
   ],
   "source": [
    "# the user data in df_date\n",
    "df_date[df_date.userId == user_test[2215]].sort_values('date')"
   ]
  },
  {
   "cell_type": "code",
   "execution_count": 79,
   "metadata": {
    "collapsed": false
   },
   "outputs": [
    {
     "data": {
      "text/html": [
       "<div>\n",
       "<table border=\"1\" class=\"dataframe\">\n",
       "  <thead>\n",
       "    <tr style=\"text-align: right;\">\n",
       "      <th></th>\n",
       "      <th>movieId</th>\n",
       "      <th>title</th>\n",
       "      <th>genres</th>\n",
       "    </tr>\n",
       "  </thead>\n",
       "  <tbody>\n",
       "    <tr>\n",
       "      <th>2873</th>\n",
       "      <td>2959</td>\n",
       "      <td>Fight Club (1999)</td>\n",
       "      <td>Action|Crime|Drama|Thriller</td>\n",
       "    </tr>\n",
       "  </tbody>\n",
       "</table>\n",
       "</div>"
      ],
      "text/plain": [
       "      movieId              title                       genres\n",
       "2873     2959  Fight Club (1999)  Action|Crime|Drama|Thriller"
      ]
     },
     "execution_count": 79,
     "metadata": {},
     "output_type": "execute_result"
    }
   ],
   "source": [
    "df_movies[df_movies.movieId == 2959]"
   ]
  },
  {
   "cell_type": "code",
   "execution_count": 85,
   "metadata": {
    "collapsed": false
   },
   "outputs": [
    {
     "name": "stdout",
     "output_type": "stream",
     "text": [
      "0.0\n",
      "0\n",
      "0.0\n",
      "0\n",
      "81\n"
     ]
    }
   ],
   "source": [
    "# Now a bad predicted example\n",
    "idx = 2218\n",
    "print(recalls[idx])\n",
    "print(spss[idx])\n",
    "print(aps[idx])\n",
    "print(num_poss[idx])\n",
    "print(total_poss[idx])"
   ]
  },
  {
   "cell_type": "code",
   "execution_count": 90,
   "metadata": {
    "collapsed": false
   },
   "outputs": [
    {
     "data": {
      "text/plain": [
       "(array([1612], dtype=int64),)"
      ]
     },
     "execution_count": 90,
     "metadata": {},
     "output_type": "execute_result"
    }
   ],
   "source": [
    "# Look which was the first movie for this user\n",
    "b = np.where(Y_test[2218].toarray()[0] == 1)\n",
    "b"
   ]
  },
  {
   "cell_type": "code",
   "execution_count": 93,
   "metadata": {
    "collapsed": false
   },
   "outputs": [
    {
     "data": {
      "text/plain": [
       "0.0018392826896160841"
      ]
     },
     "execution_count": 93,
     "metadata": {},
     "output_type": "execute_result"
    }
   ],
   "source": [
    "# Look the probability for this movie\n",
    "y_pred[18][1612]"
   ]
  },
  {
   "cell_type": "code",
   "execution_count": 97,
   "metadata": {
    "collapsed": false
   },
   "outputs": [
    {
     "name": "stdout",
     "output_type": "stream",
     "text": [
      "(0.0030854102224111557, 0.0027906710747629404, 0.0027042878791689873, 0.0025688330642879009, 0.0024558035656809807, 0.002337039215490222, 0.0021375708747655153, 0.002118848729878664, 0.0019896230660378933, 0.0019626379944384098)\n",
      "(309, 367, 368, 735, 54, 649, 7, 351, 633, 302)\n"
     ]
    }
   ],
   "source": [
    "# Sort the predicted movies by probabilities\n",
    "idx_predictions = np.arange(len(y_pred[18]))\n",
    "sorted_pred, sorted_idx = zip(*sorted(zip(y_pred[18],idx_predictions), reverse=True))\n",
    "print(sorted_pred[0:k])\n",
    "print(sorted_idx[0:k])"
   ]
  },
  {
   "cell_type": "code",
   "execution_count": 98,
   "metadata": {
    "collapsed": false
   },
   "outputs": [
    {
     "data": {
      "text/plain": [
       "array([  551,  2016,   355,  1726,  3468,   203,  1059,   368,   370,\n",
       "         367,  4395,  2461,  1453,  1576,  4902,  4812,   369,  2018,\n",
       "        1484,   182,   532,  5099,  2462,  1010,  2029,  6971,  1016,\n",
       "        6289,  1009,  4155,   339,   346,  2786,  2465,  1579,  1434,\n",
       "         350,  1432,   372,   127,  3112,   734,   185,  3596,   332,\n",
       "          41,   373,  1745,  1032,  1030,   554,  1037,   237,  1802,\n",
       "         376,  4165,   284,   374,  4882,  5893,  7045,  8597,  2244,\n",
       "         382,  1393,   506,  6895,  6183,   361,   343,  1793,  2246,\n",
       "         947,   218,  3213,  2569,  2789,  1039,  2471,  2286,   496,\n",
       "         610,   602,  1812,  1442,  2221,   914,  1055,  8723, 10374,\n",
       "          48,  1069,   518,  1526,  4238,  3855,   916,  5606,  4154,  1351], dtype=int64)"
      ]
     },
     "execution_count": 98,
     "metadata": {},
     "output_type": "execute_result"
    }
   ],
   "source": [
    "# Let's see where where the movies previous to prediction time\n",
    "c,d = np.where(x_test[18] == 1)\n",
    "d"
   ]
  },
  {
   "cell_type": "code",
   "execution_count": 99,
   "metadata": {
    "collapsed": false
   },
   "outputs": [
    {
     "data": {
      "text/plain": [
       "{'genres': 7142    Drama|Sci-Fi|Thriller\n",
       " Name: genres, dtype: object, 'title': 7142    The Butterfly Effect (2004)\n",
       " Name: title, dtype: object}"
      ]
     },
     "execution_count": 99,
     "metadata": {},
     "output_type": "execute_result"
    }
   ],
   "source": [
    "# real first movie\n",
    "moviesData[1612]"
   ]
  },
  {
   "cell_type": "code",
   "execution_count": 100,
   "metadata": {
    "collapsed": false,
    "scrolled": true
   },
   "outputs": [
    {
     "data": {
      "text/plain": [
       "{'genres': 12525    Action|Crime|Drama|IMAX\n",
       " Name: genres, dtype: object, 'title': 12525    Dark Knight, The (2008)\n",
       " Name: title, dtype: object}"
      ]
     },
     "execution_count": 100,
     "metadata": {},
     "output_type": "execute_result"
    }
   ],
   "source": [
    "# real predicted movie\n",
    "moviesData[309]"
   ]
  },
  {
   "cell_type": "code",
   "execution_count": 101,
   "metadata": {
    "collapsed": false
   },
   "outputs": [
    {
     "data": {
      "text/plain": [
       "{'genres': 2514    Comedy\n",
       " Name: genres, dtype: object, 'title': 2514    Election (1999)\n",
       " Name: title, dtype: object}"
      ]
     },
     "execution_count": 101,
     "metadata": {},
     "output_type": "execute_result"
    }
   ],
   "source": [
    "# last rated movie\n",
    "moviesData[1351]"
   ]
  },
  {
   "cell_type": "code",
   "execution_count": null,
   "metadata": {
    "collapsed": true
   },
   "outputs": [],
   "source": []
  }
 ],
 "metadata": {
  "anaconda-cloud": {},
  "kernelspec": {
   "display_name": "Python [default]",
   "language": "python",
   "name": "python3"
  },
  "language_info": {
   "codemirror_mode": {
    "name": "ipython",
    "version": 3
   },
   "file_extension": ".py",
   "mimetype": "text/x-python",
   "name": "python",
   "nbconvert_exporter": "python",
   "pygments_lexer": "ipython3",
   "version": "3.5.2"
  }
 },
 "nbformat": 4,
 "nbformat_minor": 1
}
